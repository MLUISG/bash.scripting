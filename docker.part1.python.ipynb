{
 "cells": [
  {
   "cell_type": "markdown",
   "id": "fde8311e",
   "metadata": {},
   "source": [
    "# A quick walk through\n",
    "\n",
    "## Pull an Image\n",
    "\n",
    "First, list all images.  This is likely an empty list, but it's good to check."
   ]
  },
  {
   "cell_type": "code",
   "execution_count": 1,
   "id": "5d7839db",
   "metadata": {
    "vscode": {
     "languageId": "shellscript"
    }
   },
   "outputs": [
    {
     "name": "stdout",
     "output_type": "stream",
     "text": [
      "REPOSITORY   TAG       IMAGE ID   CREATED   SIZE\n"
     ]
    }
   ],
   "source": [
    "!docker image list -a"
   ]
  },
  {
   "cell_type": "markdown",
   "id": "64d6cc42",
   "metadata": {},
   "source": [
    "Pull an Ubuntu 22.04 image from DockerHub"
   ]
  },
  {
   "cell_type": "code",
   "execution_count": 2,
   "id": "f04e23a0",
   "metadata": {
    "vscode": {
     "languageId": "shellscript"
    }
   },
   "outputs": [
    {
     "name": "stdout",
     "output_type": "stream",
     "text": [
      "22.04: Pulling from library/ubuntu\n",
      "\n",
      "\u001b[1B9b027e7f: Pull complete .53MB/29.53MBB\u001b[1A\u001b[2K\u001b[1A\u001b[2K\u001b[1A\u001b[2K\u001b[1A\u001b[2K\u001b[1A\u001b[2K\u001b[1A\u001b[2K\u001b[1A\u001b[2K\u001b[1A\u001b[2K\u001b[1A\u001b[2K\u001b[1A\u001b[2K\u001b[1A\u001b[2K\u001b[1A\u001b[2K\u001b[1A\u001b[2K\u001b[1A\u001b[2KDigest: sha256:67211c14fa74f070d27cc59d69a7fa9aeff8e28ea118ef3babc295a0428a6d21\n",
      "Status: Downloaded newer image for ubuntu:22.04\n",
      "docker.io/library/ubuntu:22.04\n"
     ]
    }
   ],
   "source": [
    "!docker pull ubuntu:22.04"
   ]
  },
  {
   "cell_type": "markdown",
   "id": "ef03c43e",
   "metadata": {},
   "source": [
    "Verify that it was successfully pulled."
   ]
  },
  {
   "cell_type": "code",
   "execution_count": 3,
   "id": "726c7c7c",
   "metadata": {
    "vscode": {
     "languageId": "shellscript"
    }
   },
   "outputs": [
    {
     "name": "stdout",
     "output_type": "stream",
     "text": [
      "REPOSITORY   TAG       IMAGE ID       CREATED       SIZE\n",
      "ubuntu       22.04     08d22c0ceb15   2 weeks ago   77.8MB\n"
     ]
    }
   ],
   "source": [
    "!docker image list -a"
   ]
  },
  {
   "cell_type": "markdown",
   "id": "ac8cd6f1",
   "metadata": {},
   "source": [
    "## Tag the Image - Make it your own\n",
    "\n",
    "In order to push it to DockerHub, the image needs to have\n",
    "the username as a prefix of the repository name.\n",
    "\n",
    "Set your DockerHub username as a variable."
   ]
  },
  {
   "cell_type": "code",
   "execution_count": 4,
   "id": "b665d740",
   "metadata": {
    "vscode": {
     "languageId": "shellscript"
    }
   },
   "outputs": [],
   "source": [
    "dh_user=input()"
   ]
  },
  {
   "cell_type": "markdown",
   "id": "9191cc5a",
   "metadata": {},
   "source": [
    "Tag the image as your own"
   ]
  },
  {
   "cell_type": "code",
   "execution_count": 5,
   "id": "7ad1c6c2",
   "metadata": {
    "vscode": {
     "languageId": "shellscript"
    }
   },
   "outputs": [],
   "source": [
    "!docker image tag ubuntu:22.04 {dh_user}/ubuntu:22.04"
   ]
  },
  {
   "cell_type": "markdown",
   "id": "f636fbba",
   "metadata": {},
   "source": [
    "Verify that the image was successfully tagged."
   ]
  },
  {
   "cell_type": "code",
   "execution_count": 6,
   "id": "66a7c745",
   "metadata": {
    "vscode": {
     "languageId": "shellscript"
    }
   },
   "outputs": [
    {
     "name": "stdout",
     "output_type": "stream",
     "text": [
      "REPOSITORY       TAG       IMAGE ID       CREATED       SIZE\n",
      "ubuntu           22.04     08d22c0ceb15   2 weeks ago   77.8MB\n",
      "rwcitek/ubuntu   22.04     08d22c0ceb15   2 weeks ago   77.8MB\n"
     ]
    }
   ],
   "source": [
    "!docker image list -a"
   ]
  },
  {
   "cell_type": "markdown",
   "id": "eed92aca",
   "metadata": {},
   "source": [
    "## Log in to DockerHub"
   ]
  },
  {
   "cell_type": "code",
   "execution_count": 7,
   "id": "5e76bdb9",
   "metadata": {
    "vscode": {
     "languageId": "shellscript"
    }
   },
   "outputs": [],
   "source": [
    "import getpass\n",
    "\n",
    "dh_password = getpass.getpass(\"Enter DockerHub password: \")"
   ]
  },
  {
   "cell_type": "code",
   "execution_count": 8,
   "id": "bf0e00a2",
   "metadata": {
    "vscode": {
     "languageId": "shellscript"
    }
   },
   "outputs": [
    {
     "name": "stdout",
     "output_type": "stream",
     "text": [
      "WARNING! Using --password via the CLI is insecure. Use --password-stdin.\n",
      "WARNING! Your password will be stored unencrypted in /home/codespace/.docker/config.json.\n",
      "Configure a credential helper to remove this warning. See\n",
      "https://docs.docker.com/engine/reference/commandline/login/#credentials-store\n",
      "\n",
      "Login Succeeded\n"
     ]
    }
   ],
   "source": [
    "!docker login -u \"{dh_user}\" -p \"{dh_password}\""
   ]
  },
  {
   "cell_type": "markdown",
   "id": "5a3b5025",
   "metadata": {},
   "source": [
    "## Push Your Image"
   ]
  },
  {
   "cell_type": "code",
   "execution_count": 9,
   "id": "f4cd107c",
   "metadata": {
    "vscode": {
     "languageId": "shellscript"
    }
   },
   "outputs": [
    {
     "name": "stdout",
     "output_type": "stream",
     "text": [
      "The push refers to repository [docker.io/rwcitek/ubuntu]\n",
      "\n",
      "\u001b[1B1bd012ab: Layer already exists 22.04: digest: sha256:5523f822d85895b0a75236aba20ff6bf4135721b031fceee7a5c4a74a700c1e6 size: 529\n"
     ]
    }
   ],
   "source": [
    "!docker push \"{dh_user}\"/ubuntu:22.04"
   ]
  },
  {
   "cell_type": "markdown",
   "id": "78d53497",
   "metadata": {},
   "source": [
    "## Pull Your Image\n",
    "Remove the existing images."
   ]
  },
  {
   "cell_type": "code",
   "execution_count": 10,
   "id": "1207524e",
   "metadata": {
    "vscode": {
     "languageId": "shellscript"
    }
   },
   "outputs": [
    {
     "name": "stdout",
     "output_type": "stream",
     "text": [
      "Untagged: ubuntu:22.04\n",
      "Untagged: ubuntu@sha256:67211c14fa74f070d27cc59d69a7fa9aeff8e28ea118ef3babc295a0428a6d21\n",
      "Untagged: rwcitek/ubuntu:22.04\n",
      "Untagged: rwcitek/ubuntu@sha256:5523f822d85895b0a75236aba20ff6bf4135721b031fceee7a5c4a74a700c1e6\n",
      "Deleted: sha256:08d22c0ceb150ddeb2237c5fa3129c0183f3cc6f5eeb2e7aa4016da3ad02140a\n",
      "Deleted: sha256:b93c1bd012ab8fda60f5b4f5906bf244586e0e3292d84571d3abb56472248466\n"
     ]
    }
   ],
   "source": [
    "!docker image rm ubuntu:22.04 \"{dh_user}\"/ubuntu:22.04"
   ]
  },
  {
   "cell_type": "markdown",
   "id": "6728a417",
   "metadata": {},
   "source": [
    "Verify that the images were successfully removed."
   ]
  },
  {
   "cell_type": "code",
   "execution_count": 11,
   "id": "8fc9bfea",
   "metadata": {
    "vscode": {
     "languageId": "shellscript"
    }
   },
   "outputs": [
    {
     "name": "stdout",
     "output_type": "stream",
     "text": [
      "REPOSITORY   TAG       IMAGE ID   CREATED   SIZE\n"
     ]
    }
   ],
   "source": [
    "!docker image list -a"
   ]
  },
  {
   "cell_type": "markdown",
   "id": "82500c2c",
   "metadata": {},
   "source": [
    "Pull the recently pushed image"
   ]
  },
  {
   "cell_type": "code",
   "execution_count": 12,
   "id": "7a6d5477",
   "metadata": {
    "vscode": {
     "languageId": "shellscript"
    }
   },
   "outputs": [
    {
     "name": "stdout",
     "output_type": "stream",
     "text": [
      "22.04: Pulling from rwcitek/ubuntu\n",
      "\n",
      "\u001b[1B9b027e7f: Pull complete .53MB/29.53MBB\u001b[1A\u001b[2K\u001b[1A\u001b[2K\u001b[1A\u001b[2K\u001b[1A\u001b[2K\u001b[1A\u001b[2K\u001b[1A\u001b[2K\u001b[1A\u001b[2K\u001b[1A\u001b[2K\u001b[1A\u001b[2K\u001b[1A\u001b[2K\u001b[1A\u001b[2K\u001b[1A\u001b[2K\u001b[1A\u001b[2K\u001b[1A\u001b[2K\u001b[1A\u001b[2K\u001b[1A\u001b[2KDigest: sha256:5523f822d85895b0a75236aba20ff6bf4135721b031fceee7a5c4a74a700c1e6\n",
      "Status: Downloaded newer image for rwcitek/ubuntu:22.04\n",
      "docker.io/rwcitek/ubuntu:22.04\n"
     ]
    }
   ],
   "source": [
    "!docker pull \"{dh_user}\"/ubuntu:22.04"
   ]
  },
  {
   "cell_type": "markdown",
   "id": "743b7af4",
   "metadata": {},
   "source": [
    "Verify that the image was successfully pulled."
   ]
  },
  {
   "cell_type": "code",
   "execution_count": 13,
   "id": "474238a0",
   "metadata": {
    "vscode": {
     "languageId": "shellscript"
    }
   },
   "outputs": [
    {
     "name": "stdout",
     "output_type": "stream",
     "text": [
      "REPOSITORY       TAG       IMAGE ID       CREATED       SIZE\n",
      "rwcitek/ubuntu   22.04     08d22c0ceb15   2 weeks ago   77.8MB\n"
     ]
    }
   ],
   "source": [
    "!docker image list -a"
   ]
  },
  {
   "cell_type": "markdown",
   "id": "9abca619",
   "metadata": {},
   "source": [
    "## Launch an Instance from Your Image"
   ]
  },
  {
   "cell_type": "code",
   "execution_count": 14,
   "id": "d748c43a",
   "metadata": {
    "vscode": {
     "languageId": "shellscript"
    }
   },
   "outputs": [
    {
     "name": "stdout",
     "output_type": "stream",
     "text": [
      "PRETTY_NAME=\"Ubuntu 22.04.2 LTS\"\n",
      "NAME=\"Ubuntu\"\n",
      "VERSION_ID=\"22.04\"\n",
      "VERSION=\"22.04.2 LTS (Jammy Jellyfish)\"\n",
      "VERSION_CODENAME=jammy\n",
      "ID=ubuntu\n",
      "ID_LIKE=debian\n",
      "HOME_URL=\"https://www.ubuntu.com/\"\n",
      "SUPPORT_URL=\"https://help.ubuntu.com/\"\n",
      "BUG_REPORT_URL=\"https://bugs.launchpad.net/ubuntu/\"\n",
      "PRIVACY_POLICY_URL=\"https://www.ubuntu.com/legal/terms-and-policies/privacy-policy\"\n",
      "UBUNTU_CODENAME=jammy\n"
     ]
    }
   ],
   "source": [
    "!docker container run --rm --interactive --tty \"{dh_user}\"/ubuntu:22.04 cat /etc/os-release"
   ]
  }
 ],
 "metadata": {
  "kernelspec": {
   "display_name": "Python 3",
   "language": "python",
   "name": "python3"
  },
  "language_info": {
   "codemirror_mode": {
    "name": "ipython",
    "version": 3
   },
   "file_extension": ".py",
   "mimetype": "text/x-python",
   "name": "python",
   "nbconvert_exporter": "python",
   "pygments_lexer": "ipython3",
   "version": "3.10.4"
  }
 },
 "nbformat": 4,
 "nbformat_minor": 5
}
