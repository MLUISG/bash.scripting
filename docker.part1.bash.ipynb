{
 "cells": [
  {
   "attachments": {},
   "cell_type": "markdown",
   "id": "fde8311e",
   "metadata": {},
   "source": [
    "# A quick walk through"
   ]
  },
  {
   "attachments": {},
   "cell_type": "markdown",
   "id": "33625d24",
   "metadata": {},
   "source": [
    "## Setup\n",
    "You need to create a file that contains your DockerHub username and password."
   ]
  },
  {
   "cell_type": "code",
   "execution_count": null,
   "id": "1e33229a",
   "metadata": {
    "vscode": {
     "languageId": "shellscript"
    }
   },
   "outputs": [],
   "source": [
    "[ -f ~/.docker/config.json ] && echo \"All's good\" || {\n",
    "[ -f ~/.docker/config.rc ] && echo \"All's good\" || {\n",
    "    echo -e 'df_user=\"\"\\ndf_password=\"\"' > ~/.docker/config.rc\n",
    "    echo \"Fill in the info in the file ~/.docker/config.rc\"\n",
    "    cat ~/.docker/config.rc\n",
    "}\n",
    "}"
   ]
  },
  {
   "attachments": {},
   "cell_type": "markdown",
   "id": "39031824",
   "metadata": {},
   "source": [
    "If you edited the `config.rc` file, then run the follow codeblock to read it in."
   ]
  },
  {
   "cell_type": "code",
   "execution_count": null,
   "id": "e0c7889e",
   "metadata": {
    "vscode": {
     "languageId": "shellscript"
    }
   },
   "outputs": [],
   "source": [
    "source ~/.docker/config.rc"
   ]
  },
  {
   "cell_type": "code",
   "execution_count": null,
   "id": "78806c2a",
   "metadata": {
    "vscode": {
     "languageId": "shellscript"
    }
   },
   "outputs": [],
   "source": [
    "cat ~/.docker/config.rc"
   ]
  },
  {
   "attachments": {},
   "cell_type": "markdown",
   "id": "34ab8866",
   "metadata": {},
   "source": [
    "## Pull an Image"
   ]
  },
  {
   "attachments": {},
   "cell_type": "markdown",
   "id": "193cc7e2",
   "metadata": {},
   "source": [
    "\n",
    "First, list all images.  This is likely an empty list, but it's good to check."
   ]
  },
  {
   "cell_type": "code",
   "execution_count": null,
   "id": "5d7839db",
   "metadata": {
    "vscode": {
     "languageId": "shellscript"
    }
   },
   "outputs": [],
   "source": [
    "docker image list -a"
   ]
  },
  {
   "cell_type": "markdown",
   "id": "64d6cc42",
   "metadata": {},
   "source": [
    "Pull an Ubuntu 22.04 image from DockerHub"
   ]
  },
  {
   "cell_type": "code",
   "execution_count": null,
   "id": "f04e23a0",
   "metadata": {
    "vscode": {
     "languageId": "shellscript"
    }
   },
   "outputs": [],
   "source": [
    "docker pull ubuntu:22.04"
   ]
  },
  {
   "cell_type": "markdown",
   "id": "ef03c43e",
   "metadata": {},
   "source": [
    "Verify that it was successfully pulled."
   ]
  },
  {
   "cell_type": "code",
   "execution_count": null,
   "id": "726c7c7c",
   "metadata": {
    "vscode": {
     "languageId": "shellscript"
    }
   },
   "outputs": [],
   "source": [
    "docker image list -a"
   ]
  },
  {
   "attachments": {},
   "cell_type": "markdown",
   "id": "ac8cd6f1",
   "metadata": {},
   "source": [
    "## Tag the Image - Make it your own\n",
    "\n",
    "In order to push it to DockerHub, the image needs to have\n",
    "the username as a prefix of the repository name."
   ]
  },
  {
   "cell_type": "markdown",
   "id": "9191cc5a",
   "metadata": {},
   "source": [
    "Tag the image as your own"
   ]
  },
  {
   "cell_type": "code",
   "execution_count": null,
   "id": "e9fce2d3",
   "metadata": {
    "vscode": {
     "languageId": "shellscript"
    }
   },
   "outputs": [],
   "source": [
    "echo $dh_user"
   ]
  },
  {
   "cell_type": "code",
   "execution_count": null,
   "id": "7ad1c6c2",
   "metadata": {
    "vscode": {
     "languageId": "shellscript"
    }
   },
   "outputs": [],
   "source": [
    "echo docker image tag ubuntu:22.04 \"${dh_user}\"/ubuntu:22.04"
   ]
  },
  {
   "cell_type": "markdown",
   "id": "f636fbba",
   "metadata": {},
   "source": [
    "Verify that the image was successfully tagged."
   ]
  },
  {
   "cell_type": "code",
   "execution_count": null,
   "id": "66a7c745",
   "metadata": {
    "vscode": {
     "languageId": "shellscript"
    }
   },
   "outputs": [],
   "source": [
    "docker image list -a"
   ]
  },
  {
   "cell_type": "markdown",
   "id": "eed92aca",
   "metadata": {},
   "source": [
    "## Log in to DockerHub"
   ]
  },
  {
   "cell_type": "code",
   "execution_count": null,
   "id": "bf0e00a2",
   "metadata": {
    "vscode": {
     "languageId": "shellscript"
    }
   },
   "outputs": [],
   "source": [
    "[ -f ~/.docker/config.json ] ||\n",
    "docker login -u \"${dh_user}\" -p \"${dh_password}\""
   ]
  },
  {
   "cell_type": "markdown",
   "id": "5a3b5025",
   "metadata": {},
   "source": [
    "## Push Your Image"
   ]
  },
  {
   "cell_type": "code",
   "execution_count": null,
   "id": "f4cd107c",
   "metadata": {
    "vscode": {
     "languageId": "shellscript"
    }
   },
   "outputs": [],
   "source": [
    "docker push \"${dh_user}\"/ubuntu:22.04"
   ]
  },
  {
   "cell_type": "markdown",
   "id": "78d53497",
   "metadata": {},
   "source": [
    "## Pull Your Image\n",
    "Remove the existing images."
   ]
  },
  {
   "cell_type": "code",
   "execution_count": null,
   "id": "1207524e",
   "metadata": {
    "vscode": {
     "languageId": "shellscript"
    }
   },
   "outputs": [],
   "source": [
    "docker image rm ubuntu:22.04 \"${dh_user}\"/ubuntu:22.04"
   ]
  },
  {
   "cell_type": "markdown",
   "id": "6728a417",
   "metadata": {},
   "source": [
    "Verify that the images were successfully removed."
   ]
  },
  {
   "cell_type": "code",
   "execution_count": null,
   "id": "8fc9bfea",
   "metadata": {
    "vscode": {
     "languageId": "shellscript"
    }
   },
   "outputs": [],
   "source": [
    "docker image list -a"
   ]
  },
  {
   "cell_type": "markdown",
   "id": "82500c2c",
   "metadata": {},
   "source": [
    "Pull the recently pushed image"
   ]
  },
  {
   "cell_type": "code",
   "execution_count": null,
   "id": "7a6d5477",
   "metadata": {
    "vscode": {
     "languageId": "shellscript"
    }
   },
   "outputs": [],
   "source": [
    "docker pull \"{dh_user}\"/ubuntu:22.04"
   ]
  },
  {
   "cell_type": "markdown",
   "id": "743b7af4",
   "metadata": {},
   "source": [
    "Verify that the image was successfully pulled."
   ]
  },
  {
   "cell_type": "code",
   "execution_count": null,
   "id": "474238a0",
   "metadata": {
    "vscode": {
     "languageId": "shellscript"
    }
   },
   "outputs": [],
   "source": [
    "docker image list -a"
   ]
  },
  {
   "cell_type": "markdown",
   "id": "9abca619",
   "metadata": {},
   "source": [
    "## Launch an Instance from Your Image"
   ]
  },
  {
   "cell_type": "code",
   "execution_count": null,
   "id": "d748c43a",
   "metadata": {
    "vscode": {
     "languageId": "shellscript"
    }
   },
   "outputs": [],
   "source": [
    "docker container run --rm --interactive --tty \"${dh_user}\"/ubuntu:22.04 cat /etc/os-release"
   ]
  }
 ],
 "metadata": {
  "kernelspec": {
   "display_name": "Bash",
   "language": "bash",
   "name": "bash"
  },
  "language_info": {
   "codemirror_mode": "shell",
   "file_extension": ".sh",
   "mimetype": "text/x-sh",
   "name": "bash"
  }
 },
 "nbformat": 4,
 "nbformat_minor": 5
}
